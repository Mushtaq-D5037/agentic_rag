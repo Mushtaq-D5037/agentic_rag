{
 "cells": [
  {
   "cell_type": "code",
   "execution_count": null,
   "id": "1f3c6cad",
   "metadata": {},
   "outputs": [],
   "source": [
    "from typing import Optional\n",
    "import requests"
   ]
  },
  {
   "cell_type": "code",
   "execution_count": null,
   "id": "5763c577",
   "metadata": {},
   "outputs": [],
   "source": [
    "def fetch_url_content(url:str) -> Optional[str]:\n",
    "    '''\n",
    "    Fetches the content using jina from a given URL prefixed with \"https://r.jina.ai/\".\n",
    "    Note: Jina reader is used to read the content from the URL. No api is needed\n",
    "    Returns the content as a markdown format if successful, otherwise returns None.\n",
    "    '''\n",
    "    prefix_url = \"https://r.jina.ai/\"\n",
    "    complete_url = f\"{prefix_url}{url}\"\n",
    "    try:\n",
    "        response = requests.get(complete_url)\n",
    "        if response.status_code == 200:\n",
    "            return response.content.decode('utf-8')\n",
    "        else:\n",
    "            print(f\"Failed to fetch content. Status code: {response.status_code}\")\n",
    "            return None\n",
    "    except Exception as e:\n",
    "        print(f\"An error occurred: {e}\")\n",
    "        return None\n"
   ]
  },
  {
   "cell_type": "code",
   "execution_count": null,
   "id": "85b6bad0",
   "metadata": {},
   "outputs": [],
   "source": [
    "# fetch content from a URL\n",
    "url = \"https://uaelegislation.gov.ae/en/legislations/1594\"\n",
    "content = fetch_url_content(url)\n",
    "if content:\n",
    "    print('content fetched successfully, content sample:')  # Print the first 500 characters of the content\n",
    "    print(content[:500])   \n",
    "else:\n",
    "    print(f'Failed to fetch content from {url}')"
   ]
  },
  {
   "cell_type": "code",
   "execution_count": null,
   "id": "fbe9c36a",
   "metadata": {},
   "outputs": [],
   "source": [
    "# saving the content to a markdown file\n",
    "with open('output/fetched_content_through_jina_reader.md', 'w', encoding='utf-8') as f:\n",
    "    f.write(content if content else 'No content fetched.')"
   ]
  },
  {
   "cell_type": "code",
   "execution_count": null,
   "id": "e738b2ed",
   "metadata": {},
   "outputs": [
    {
     "name": "stderr",
     "output_type": "stream",
     "text": [
      "<All keys matched successfully>\n",
      "d:\\ai_ml_workspace\\playground\\playground_agentic_rag\\utils\\qdrant_connect.py:13: UserWarning: Qdrant client version 1.15.1 is incompatible with server version 1.13.6. Major versions should match and minor version difference must not exceed 1. Set check_compatibility=False to skip version check.\n",
      "  qdrant_client = QdrantClient(url=self.qdrant_cluster_url,\n"
     ]
    }
   ],
   "source": []
  },
  {
   "cell_type": "code",
   "execution_count": null,
   "id": "882f976d",
   "metadata": {},
   "outputs": [
    {
     "name": "stdout",
     "output_type": "stream",
     "text": [
      "-------------in search ---------------------\n",
      "Re-ranking docs using LLM...\n",
      "1.0 Article (9)\n",
      "1.0 Article (3)\n",
      "1.0 Article (25)\n",
      "1.0 Article (15)\n",
      "1.0 Article (42)\n",
      "1.0 Article (3)\n",
      "1.0 Article (24)\n"
     ]
    }
   ],
   "source": []
  },
  {
   "cell_type": "code",
   "execution_count": null,
   "id": "545603b9",
   "metadata": {},
   "outputs": [
    {
     "name": "stdout",
     "output_type": "stream",
     "text": [
      "ModelName: gemma2-9b-it\n",
      "has_answer: NO, response time (in millisec): 521\n"
     ]
    }
   ],
   "source": [
    "import importlib\n",
    "importlib.reload(llm)\n",
    "\n"
   ]
  },
  {
   "cell_type": "code",
   "execution_count": null,
   "id": "26bc77db",
   "metadata": {},
   "outputs": [
    {
     "data": {
      "text/plain": [
       "<module 'utils.prompts' from 'd:\\\\ai_ml_workspace\\\\playground\\\\playground_agentic_rag\\\\utils\\\\prompts.py'>"
      ]
     },
     "execution_count": 41,
     "metadata": {},
     "output_type": "execute_result"
    }
   ],
   "source": [
    "\n",
    "import importlib\n",
    "importlib.reload(prompts)"
   ]
  },
  {
   "cell_type": "code",
   "execution_count": null,
   "id": "73bc94dd",
   "metadata": {},
   "outputs": [],
   "source": []
  },
  {
   "cell_type": "code",
   "execution_count": null,
   "id": "706be1e0",
   "metadata": {},
   "outputs": [
    {
     "name": "stdout",
     "output_type": "stream",
     "text": [
      "Context cannot answer the question, searching online for answer...\n",
      "3.0 Wikipedia Dubai Electricity and Water Authority - Wikipedia\n",
      "4.5 Dewa Dubai Electricity & Water Authority (DEWA) | Home\n",
      "4.5 GlobalData Dubai Electricity and Water Authority Executive & Employee Information - GlobalData\n",
      "4.0 Dewa Dubai Electricity & Water Authority (DEWA) | HE Saeed Mohammed Al Tayer meets Director General of Knowledge and Human Development Authority in Dubai\n",
      "1.0 LinkedIn Dubai Electricity & Water Authority - DEWA | LinkedIn\n",
      "ModelName: llama3-70b-8192\n",
      "Response:\n"
     ]
    },
    {
     "data": {
      "text/markdown": [
       "**Director of Dubai Electricity Water Authority (DEWA)**\n",
       "\n",
       "The director of DEWA is **Saeed Mohammed Al Tayer**."
      ],
      "text/plain": [
       "<IPython.core.display.Markdown object>"
      ]
     },
     "metadata": {},
     "output_type": "display_data"
    }
   ],
   "source": []
  },
  {
   "cell_type": "code",
   "execution_count": 33,
   "id": "7ef60056",
   "metadata": {},
   "outputs": [
    {
     "data": {
      "text/plain": [
       "'Coolie is a high-end action thriller that follows the story of a man named Deva, who previously earned daily wages and now runs a hostel-style ...'"
      ]
     },
     "execution_count": 33,
     "metadata": {},
     "output_type": "execute_result"
    }
   ],
   "source": [
    "response_from_ddgs[0]['body']"
   ]
  },
  {
   "cell_type": "code",
   "execution_count": null,
   "id": "85aac3e9",
   "metadata": {},
   "outputs": [
    {
     "name": "stdout",
     "output_type": "stream",
     "text": [
      "2.0 Rajnikanth Movie Coolie Will Star Two Big Actors: Who are They?\n",
      "2.5 Coolie OTT Release Date Reportedly Revealed Online: When and\n",
      "1.0 All Lokesh Kanagaraj Movies (Including Coolie), Ranked - High\n"
     ]
    },
    {
     "data": {
      "text/plain": [
       "[{'title': 'Coolie OTT Release Date Reportedly Revealed Online: When and',\n",
       "  'href': 'https://www.gadgets360.com/entertainment/news/rajnikanths-coolie-to-release-on-amazon-prime-in-september-after-its-theatrical-release-9138648',\n",
       "  'body': 'Coolie is a high-end action thriller that follows the story of a man named Deva, who previously earned daily wages and now runs a hostel-style ...',\n",
       "  'llm_score': 2.5},\n",
       " {'title': 'Rajnikanth Movie Coolie Will Star Two Big Actors: Who are They?',\n",
       "  'href': 'https://www.stackumbrella.com/rajnikanth-coolie-movie-introduces-nagarjuna/',\n",
       "  'body': 'Rajnikanth Coolie is a highly anticipated movie , that hit the big screen in the second month of the coming year 2025.',\n",
       "  'llm_score': 2.0},\n",
       " {'title': 'All Lokesh Kanagaraj Movies (Including Coolie), Ranked - High',\n",
       "  'href': 'https://www.highonfilms.com/lokesh-kanagaraj-movies-ranked/',\n",
       "  'body': 'Maanagaram “ (2017) is a hyperlink narrative that’ s as much the story of the Indian youth within the world of the corporate sector as it is ...',\n",
       "  'llm_score': 1.0}]"
      ]
     },
     "execution_count": 36,
     "metadata": {},
     "output_type": "execute_result"
    }
   ],
   "source": [
    "\n",
    "sorted_docs"
   ]
  }
 ],
 "metadata": {
  "kernelspec": {
   "display_name": ".aiml_venv",
   "language": "python",
   "name": "python3"
  },
  "language_info": {
   "codemirror_mode": {
    "name": "ipython",
    "version": 3
   },
   "file_extension": ".py",
   "mimetype": "text/x-python",
   "name": "python",
   "nbconvert_exporter": "python",
   "pygments_lexer": "ipython3",
   "version": "3.13.5"
  }
 },
 "nbformat": 4,
 "nbformat_minor": 5
}
