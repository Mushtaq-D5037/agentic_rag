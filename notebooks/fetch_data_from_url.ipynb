{
 "cells": [
  {
   "cell_type": "code",
   "execution_count": null,
   "id": "1f3c6cad",
   "metadata": {},
   "outputs": [],
   "source": [
    "from typing import Optional\n",
    "import requests"
   ]
  },
  {
   "cell_type": "code",
   "execution_count": null,
   "id": "5763c577",
   "metadata": {},
   "outputs": [],
   "source": [
    "def fetch_url_content(url:str) -> Optional[str]:\n",
    "    '''\n",
    "    Fetches the content using jina from a given URL prefixed with \"https://r.jina.ai/\".\n",
    "    Note: Jina reader is used to read the content from the URL. No api is needed\n",
    "    Returns the content as a markdown format if successful, otherwise returns None.\n",
    "    '''\n",
    "    prefix_url = \"https://r.jina.ai/\"\n",
    "    complete_url = f\"{prefix_url}{url}\"\n",
    "    try:\n",
    "        response = requests.get(complete_url)\n",
    "        if response.status_code == 200:\n",
    "            return response.content.decode('utf-8')\n",
    "        else:\n",
    "            print(f\"Failed to fetch content. Status code: {response.status_code}\")\n",
    "            return None\n",
    "    except Exception as e:\n",
    "        print(f\"An error occurred: {e}\")\n",
    "        return None\n"
   ]
  },
  {
   "cell_type": "code",
   "execution_count": null,
   "id": "85b6bad0",
   "metadata": {},
   "outputs": [],
   "source": [
    "# fetch content from a URL\n",
    "url = \"https://uaelegislation.gov.ae/en/legislations/1594\"\n",
    "content = fetch_url_content(url)\n",
    "if content:\n",
    "    print('content fetched successfully, content sample:')  # Print the first 500 characters of the content\n",
    "    print(content[:500])   \n",
    "else:\n",
    "    print(f'Failed to fetch content from {url}')"
   ]
  },
  {
   "cell_type": "code",
   "execution_count": null,
   "id": "fbe9c36a",
   "metadata": {},
   "outputs": [],
   "source": [
    "# saving the content to a markdown file\n",
    "with open('output/fetched_content_through_jina_reader.md', 'w', encoding='utf-8') as f:\n",
    "    f.write(content if content else 'No content fetched.')"
   ]
  }
 ],
 "metadata": {
  "kernelspec": {
   "display_name": ".aiml_venv",
   "language": "python",
   "name": "python3"
  },
  "language_info": {
   "codemirror_mode": {
    "name": "ipython",
    "version": 3
   },
   "file_extension": ".py",
   "mimetype": "text/x-python",
   "name": "python",
   "nbconvert_exporter": "python",
   "pygments_lexer": "ipython3",
   "version": "3.13.5"
  }
 },
 "nbformat": 4,
 "nbformat_minor": 5
}
