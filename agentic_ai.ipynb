{
 "cells": [
  {
   "cell_type": "code",
   "execution_count": 2,
   "id": "16e22c54",
   "metadata": {},
   "outputs": [],
   "source": [
    "# importing libraries\n",
    "from utils import (\n",
    "     prompts,\n",
    "     llm,    \n",
    ")\n",
    "from core import hybrid_search\n",
    "from utils.helpers import format_search_results, re_rank_docs\n",
    "from ddgs import DDGS \n",
    "from IPython.display import Markdown, display"
   ]
  },
  {
   "cell_type": "code",
   "execution_count": null,
   "id": "668d67c3",
   "metadata": {},
   "outputs": [],
   "source": [
    "# Extracting relevant documents from the vector database \n",
    "# Note: we are using qdrant vector db, which we already created for our UAE Legal RAG usecase\n",
    "user_query = \"what are the various types of recruitment pattern in uae?\"\n",
    "retrivedDocs = hybrid_search.retreive_relevant_docs(user_query)"
   ]
  },
  {
   "cell_type": "code",
   "execution_count": 17,
   "id": "a30d8fdc",
   "metadata": {},
   "outputs": [
    {
     "name": "stdout",
     "output_type": "stream",
     "text": [
      "ModelName: gemma2-9b-it\n",
      "has_answer: NO, response time (in millisec): 698\n"
     ]
    }
   ],
   "source": [
    "# we will make use of decision prompt to decide if we have relevant context or not\n",
    "# it returns 'Yes' if the context has an answer else it returns 'No' as answer\n",
    "decision_prompt = prompts.decision_prompt(user_query, retrivedDocs)\n",
    "has_answer, response_time = llm.generate_response( query=user_query, \n",
    "                                                   retrieved_results=retrivedDocs, \n",
    "                                                   prompt_template=decision_prompt,\n",
    "                                                   model_name=llm.GROQ_MODEL2\n",
    "                                                 )       \n",
    "\n",
    "print(f'has_answer: {has_answer}, response time (in millisec): {response_time}')"
   ]
  },
  {
   "cell_type": "code",
   "execution_count": 18,
   "id": "82ae340b",
   "metadata": {},
   "outputs": [
    {
     "name": "stdout",
     "output_type": "stream",
     "text": [
      "Context cannot answer the question, searching online for answer...\n",
      "1.0 United Arab Emirates Legislations | Federal Law by Decree on...\n",
      "1.0 UAE Legislation United Arab Emirates Legislations | Legislations\n",
      "1.0 Federal Law by Decree No. (49) of 2022\n",
      "ModelName: llama3-70b-8192\n",
      "Response:\n"
     ]
    },
    {
     "data": {
      "text/markdown": [
       "**Types of Recruitment Patterns in UAE**\n",
       "\n",
       "Based on the provided context, I found the following types of recruitment patterns in UAE:\n",
       "\n",
       "**1. Federal Government Recruitment Pattern**\n",
       "\n",
       "* This type of recruitment is governed by the UAE Federal Government laws and regulations.\n",
       "* It involves recruiting employees for federal government entities, such as ministries and government departments.\n",
       "\n",
       "**2. Emiratization Recruitment Pattern**\n",
       "\n",
       "* This type of recruitment is focused on hiring UAE nationals for private sector jobs.\n",
       "* It aims to increase the number of Emiratis employed in the private sector.\n",
       "\n",
       "**3. Public-Private Partnership Recruitment Pattern**\n",
       "\n",
       "* This type of recruitment involves a partnership between public and private sector entities.\n",
       "* It aims to provide job opportunities for UAE nationals and promote economic growth.\n",
       "\n",
       "**4. General Recruitment Pattern**\n",
       "\n",
       "* This type of recruitment is not specific to any particular sector or entity.\n",
       "* It involves recruiting employees for various job roles across different industries.\n",
       "\n",
       "Please note that these types of recruitment patterns are based on the provided context and may not be exhaustive."
      ],
      "text/plain": [
       "<IPython.core.display.Markdown object>"
      ]
     },
     "metadata": {},
     "output_type": "display_data"
    }
   ],
   "source": [
    "# Based on the decision prompt result, \n",
    "# we either generate response from context or search online using duckduckgo-search\n",
    "\n",
    "if has_answer == 'YES':\n",
    "    print('Context can answer the question, generating response...')\n",
    "    response_from_context = True\n",
    "else:\n",
    "    agent_query = f\"site:https://uaelegislation.gov.ae/en/legislations/1594 {user_query}\"\n",
    "    print('Context cannot answer the question, searching online for answer...')\n",
    "    response_from_context = False\n",
    "    # response_from_ddgs = DDGS().text(user_query, max_results=5)  # fetching top 5 results from internet\n",
    "    response_from_ddgs = DDGS().text(agent_query, max_results=10)  # search from specific site\n",
    "    sorted_docs = re_rank_docs(response_from_ddgs, user_query)\n",
    "    formatted_results = format_search_results(sorted_docs)\n",
    "    \n",
    "retrieved_results = retrivedDocs if response_from_context else formatted_results\n",
    "\n",
    "# Common code for generating the response\n",
    "response, response_time = llm.generate_response(\n",
    "    query=user_query,\n",
    "    retrieved_results=retrieved_results,\n",
    "    prompt_template=prompts.response_generation(user_query, retrieved_results),\n",
    "    model_name=llm.GROQ_MODEL\n",
    ")\n",
    "\n",
    "print('Response:')\n",
    "display(Markdown(response))\n"
   ]
  },
  {
   "cell_type": "markdown",
   "id": "f1522757",
   "metadata": {},
   "source": [
    "#### Observation\n",
    "- duckduckgo-search for a specific website is a hit & miss\n",
    "- some websites block agent crawlers to index data from their website\n",
    "- more advanced techniques needs to be explored to make it work"
   ]
  }
 ],
 "metadata": {
  "kernelspec": {
   "display_name": ".aiml_venv",
   "language": "python",
   "name": "python3"
  },
  "language_info": {
   "codemirror_mode": {
    "name": "ipython",
    "version": 3
   },
   "file_extension": ".py",
   "mimetype": "text/x-python",
   "name": "python",
   "nbconvert_exporter": "python",
   "pygments_lexer": "ipython3",
   "version": "3.13.5"
  }
 },
 "nbformat": 4,
 "nbformat_minor": 5
}
